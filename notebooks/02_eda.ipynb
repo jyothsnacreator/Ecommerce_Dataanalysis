{
 "cells": [
  {
   "cell_type": "code",
   "execution_count": 5,
   "metadata": {},
   "outputs": [
    {
     "name": "stdout",
     "output_type": "stream",
     "text": [
      "Collecting matplotlib\n",
      "  Downloading matplotlib-3.10.0-cp312-cp312-win_amd64.whl.metadata (11 kB)\n",
      "Collecting contourpy>=1.0.1 (from matplotlib)\n",
      "  Downloading contourpy-1.3.1-cp312-cp312-win_amd64.whl.metadata (5.4 kB)\n",
      "Collecting cycler>=0.10 (from matplotlib)\n",
      "  Downloading cycler-0.12.1-py3-none-any.whl.metadata (3.8 kB)\n",
      "Collecting fonttools>=4.22.0 (from matplotlib)\n",
      "  Downloading fonttools-4.55.8-cp312-cp312-win_amd64.whl.metadata (103 kB)\n",
      "     ---------------------------------------- 0.0/103.3 kB ? eta -:--:--\n",
      "     --- ------------------------------------ 10.2/103.3 kB ? eta -:--:--\n",
      "     ---------------------- -------------- 61.4/103.3 kB 825.8 kB/s eta 0:00:01\n",
      "     ------------------------------------ 103.3/103.3 kB 853.4 kB/s eta 0:00:00\n",
      "Collecting kiwisolver>=1.3.1 (from matplotlib)\n",
      "  Downloading kiwisolver-1.4.8-cp312-cp312-win_amd64.whl.metadata (6.3 kB)\n",
      "Requirement already satisfied: numpy>=1.23 in c:\\users\\mysel\\appdata\\local\\programs\\python\\python312\\lib\\site-packages (from matplotlib) (2.2.2)\n",
      "Requirement already satisfied: packaging>=20.0 in c:\\users\\mysel\\appdata\\roaming\\python\\python312\\site-packages (from matplotlib) (24.2)\n",
      "Collecting pillow>=8 (from matplotlib)\n",
      "  Downloading pillow-11.1.0-cp312-cp312-win_amd64.whl.metadata (9.3 kB)\n",
      "Collecting pyparsing>=2.3.1 (from matplotlib)\n",
      "  Downloading pyparsing-3.2.1-py3-none-any.whl.metadata (5.0 kB)\n",
      "Requirement already satisfied: python-dateutil>=2.7 in c:\\users\\mysel\\appdata\\roaming\\python\\python312\\site-packages (from matplotlib) (2.9.0.post0)\n",
      "Requirement already satisfied: six>=1.5 in c:\\users\\mysel\\appdata\\roaming\\python\\python312\\site-packages (from python-dateutil>=2.7->matplotlib) (1.17.0)\n",
      "Downloading matplotlib-3.10.0-cp312-cp312-win_amd64.whl (8.0 MB)\n",
      "   ---------------------------------------- 0.0/8.0 MB ? eta -:--:--\n",
      "    --------------------------------------- 0.2/8.0 MB 5.1 MB/s eta 0:00:02\n",
      "   -- ------------------------------------- 0.5/8.0 MB 5.6 MB/s eta 0:00:02\n",
      "   ----- ---------------------------------- 1.0/8.0 MB 8.3 MB/s eta 0:00:01\n",
      "   ----------- ---------------------------- 2.3/8.0 MB 13.6 MB/s eta 0:00:01\n",
      "   ----------------- ---------------------- 3.5/8.0 MB 15.8 MB/s eta 0:00:01\n",
      "   ------------------ --------------------- 3.7/8.0 MB 14.6 MB/s eta 0:00:01\n",
      "   ---------------------- ----------------- 4.6/8.0 MB 14.7 MB/s eta 0:00:01\n",
      "   ------------------------------- -------- 6.4/8.0 MB 17.7 MB/s eta 0:00:01\n",
      "   ---------------------------------------  8.0/8.0 MB 19.7 MB/s eta 0:00:01\n",
      "   ---------------------------------------- 8.0/8.0 MB 17.7 MB/s eta 0:00:00\n",
      "Downloading contourpy-1.3.1-cp312-cp312-win_amd64.whl (220 kB)\n",
      "   ---------------------------------------- 0.0/221.0 kB ? eta -:--:--\n",
      "   ---------------------------------------- 221.0/221.0 kB 6.8 MB/s eta 0:00:00\n",
      "Downloading cycler-0.12.1-py3-none-any.whl (8.3 kB)\n",
      "Downloading fonttools-4.55.8-cp312-cp312-win_amd64.whl (2.2 MB)\n",
      "   ---------------------------------------- 0.0/2.2 MB ? eta -:--:--\n",
      "   ------------------------------------ --- 2.0/2.2 MB 41.8 MB/s eta 0:00:01\n",
      "   ---------------------------------------- 2.2/2.2 MB 23.2 MB/s eta 0:00:00\n",
      "Downloading kiwisolver-1.4.8-cp312-cp312-win_amd64.whl (71 kB)\n",
      "   ---------------------------------------- 0.0/71.9 kB ? eta -:--:--\n",
      "   ---------------------------------------- 71.9/71.9 kB 3.9 MB/s eta 0:00:00\n",
      "Downloading pillow-11.1.0-cp312-cp312-win_amd64.whl (2.6 MB)\n",
      "   ---------------------------------------- 0.0/2.6 MB ? eta -:--:--\n",
      "   ----- ---------------------------------- 0.4/2.6 MB 11.2 MB/s eta 0:00:01\n",
      "   ------------ --------------------------- 0.8/2.6 MB 10.0 MB/s eta 0:00:01\n",
      "   ------------------- -------------------- 1.3/2.6 MB 10.2 MB/s eta 0:00:01\n",
      "   -------------------------- ------------- 1.7/2.6 MB 10.1 MB/s eta 0:00:01\n",
      "   ----------------------------------- ---- 2.3/2.6 MB 10.6 MB/s eta 0:00:01\n",
      "   ---------------------------------------  2.6/2.6 MB 10.4 MB/s eta 0:00:01\n",
      "   ---------------------------------------- 2.6/2.6 MB 9.3 MB/s eta 0:00:00\n",
      "Downloading pyparsing-3.2.1-py3-none-any.whl (107 kB)\n",
      "   ---------------------------------------- 0.0/107.7 kB ? eta -:--:--\n",
      "   ---------------------------------------- 107.7/107.7 kB ? eta 0:00:00\n",
      "Installing collected packages: pyparsing, pillow, kiwisolver, fonttools, cycler, contourpy, matplotlib\n",
      "Successfully installed contourpy-1.3.1 cycler-0.12.1 fonttools-4.55.8 kiwisolver-1.4.8 matplotlib-3.10.0 pillow-11.1.0 pyparsing-3.2.1\n"
     ]
    },
    {
     "name": "stderr",
     "output_type": "stream",
     "text": [
      "\n",
      "[notice] A new release of pip is available: 24.0 -> 25.0\n",
      "[notice] To update, run: python.exe -m pip install --upgrade pip\n"
     ]
    },
    {
     "name": "stdout",
     "output_type": "stream",
     "text": [
      "Collecting seaborn\n",
      "  Downloading seaborn-0.13.2-py3-none-any.whl.metadata (5.4 kB)\n",
      "Requirement already satisfied: numpy!=1.24.0,>=1.20 in c:\\users\\mysel\\appdata\\local\\programs\\python\\python312\\lib\\site-packages (from seaborn) (2.2.2)\n",
      "Requirement already satisfied: pandas>=1.2 in c:\\users\\mysel\\appdata\\local\\programs\\python\\python312\\lib\\site-packages (from seaborn) (2.2.3)\n",
      "Requirement already satisfied: matplotlib!=3.6.1,>=3.4 in c:\\users\\mysel\\appdata\\local\\programs\\python\\python312\\lib\\site-packages (from seaborn) (3.10.0)\n",
      "Requirement already satisfied: contourpy>=1.0.1 in c:\\users\\mysel\\appdata\\local\\programs\\python\\python312\\lib\\site-packages (from matplotlib!=3.6.1,>=3.4->seaborn) (1.3.1)\n",
      "Requirement already satisfied: cycler>=0.10 in c:\\users\\mysel\\appdata\\local\\programs\\python\\python312\\lib\\site-packages (from matplotlib!=3.6.1,>=3.4->seaborn) (0.12.1)\n",
      "Requirement already satisfied: fonttools>=4.22.0 in c:\\users\\mysel\\appdata\\local\\programs\\python\\python312\\lib\\site-packages (from matplotlib!=3.6.1,>=3.4->seaborn) (4.55.8)\n",
      "Requirement already satisfied: kiwisolver>=1.3.1 in c:\\users\\mysel\\appdata\\local\\programs\\python\\python312\\lib\\site-packages (from matplotlib!=3.6.1,>=3.4->seaborn) (1.4.8)\n",
      "Requirement already satisfied: packaging>=20.0 in c:\\users\\mysel\\appdata\\roaming\\python\\python312\\site-packages (from matplotlib!=3.6.1,>=3.4->seaborn) (24.2)\n",
      "Requirement already satisfied: pillow>=8 in c:\\users\\mysel\\appdata\\local\\programs\\python\\python312\\lib\\site-packages (from matplotlib!=3.6.1,>=3.4->seaborn) (11.1.0)\n",
      "Requirement already satisfied: pyparsing>=2.3.1 in c:\\users\\mysel\\appdata\\local\\programs\\python\\python312\\lib\\site-packages (from matplotlib!=3.6.1,>=3.4->seaborn) (3.2.1)\n",
      "Requirement already satisfied: python-dateutil>=2.7 in c:\\users\\mysel\\appdata\\roaming\\python\\python312\\site-packages (from matplotlib!=3.6.1,>=3.4->seaborn) (2.9.0.post0)\n",
      "Requirement already satisfied: pytz>=2020.1 in c:\\users\\mysel\\appdata\\local\\programs\\python\\python312\\lib\\site-packages (from pandas>=1.2->seaborn) (2025.1)\n",
      "Requirement already satisfied: tzdata>=2022.7 in c:\\users\\mysel\\appdata\\local\\programs\\python\\python312\\lib\\site-packages (from pandas>=1.2->seaborn) (2025.1)\n",
      "Requirement already satisfied: six>=1.5 in c:\\users\\mysel\\appdata\\roaming\\python\\python312\\site-packages (from python-dateutil>=2.7->matplotlib!=3.6.1,>=3.4->seaborn) (1.17.0)\n",
      "Downloading seaborn-0.13.2-py3-none-any.whl (294 kB)\n",
      "   ---------------------------------------- 0.0/294.9 kB ? eta -:--:--\n",
      "   - -------------------------------------- 10.2/294.9 kB ? eta -:--:--\n",
      "   ---- ---------------------------------- 30.7/294.9 kB 660.6 kB/s eta 0:00:01\n",
      "   -------------------- ------------------- 153.6/294.9 kB 1.5 MB/s eta 0:00:01\n",
      "   -------------------------------------- - 286.7/294.9 kB 2.2 MB/s eta 0:00:01\n",
      "   ---------------------------------------- 294.9/294.9 kB 2.0 MB/s eta 0:00:00\n",
      "Installing collected packages: seaborn\n",
      "Successfully installed seaborn-0.13.2\n"
     ]
    },
    {
     "name": "stderr",
     "output_type": "stream",
     "text": [
      "\n",
      "[notice] A new release of pip is available: 24.0 -> 25.0\n",
      "[notice] To update, run: python.exe -m pip install --upgrade pip\n"
     ]
    }
   ],
   "source": [
    "#make sure you have installed these libraries before getting started\n",
    "!pip install matplotlib\n",
    "!pip install seaborn\n"
   ]
  },
  {
   "cell_type": "code",
   "execution_count": 9,
   "metadata": {},
   "outputs": [],
   "source": [
    "import matplotlib.pyplot as plt\n",
    "import seaborn as sns\n",
    "import pandas as pd\n",
    "\n",
    "# Load the cleaned dataset\n",
    "data_path = \"../data/cleaned_dataset.csv\"  \n",
    "df = pd.read_csv(data_path)"
   ]
  },
  {
   "cell_type": "code",
   "execution_count": 10,
   "metadata": {},
   "outputs": [
    {
     "name": "stdout",
     "output_type": "stream",
     "text": [
      "First few rows of the dataset:\n",
      "      CID         TID  Gender     Age Group        Purchase Date  \\\n",
      "0  943146  5876328741  Female         25-45  2023-08-30 20:27:08   \n",
      "1  180079  1018503182    Male         25-45  2024-02-23 09:33:46   \n",
      "2  337580  3814082218   Other  60 and above  2022-03-06 09:09:50   \n",
      "3  180333  1395204173   Other  60 and above  2020-11-04 04:41:57   \n",
      "4  447553  8009390577    Male         18-25  2022-05-31 17:00:32   \n",
      "\n",
      "   Product Category Discount Availed    Discount Name  Discount Amount (INR)  \\\n",
      "0       Electronics              Yes        FESTIVE50                  64.30   \n",
      "1       Electronics              Yes  SEASONALOFFER21                 175.19   \n",
      "2          Clothing              Yes  SEASONALOFFER21                 211.54   \n",
      "3  Sports & Fitness               No         NEWYEARS                   0.00   \n",
      "4  Sports & Fitness              Yes         WELCOME5                 439.92   \n",
      "\n",
      "   Gross Amount   Net Amount Purchase Method   Location  \n",
      "0    725.304000   661.004000     Credit Card  Ahmedabad  \n",
      "1   4638.991875  4463.801875     Credit Card  Bangalore  \n",
      "2   1986.372575  1774.832575     Credit Card      Delhi  \n",
      "3   5695.612650  5695.612650      Debit Card      Delhi  \n",
      "4   2292.651500  1852.731500     Credit Card      Delhi  \n",
      "\n",
      "Summary of numerical columns:\n",
      "                 CID           TID  Discount Amount (INR)  Gross Amount  \\\n",
      "count   55000.000000  5.500000e+04           55000.000000  55000.000000   \n",
      "mean   551245.593891  5.504740e+09             136.986796   3012.936606   \n",
      "std    260603.330337  2.594534e+09             165.375502   1718.431066   \n",
      "min    100009.000000  1.000163e+09               0.000000    136.454325   \n",
      "25%    323717.000000  3.252604e+09               0.000000   1562.111325   \n",
      "50%    550088.500000  5.498383e+09               0.000000   2954.266150   \n",
      "75%    776955.750000  7.747933e+09             274.115000   4342.221675   \n",
      "max    999996.000000  9.999393e+09             500.000000   8394.825600   \n",
      "\n",
      "         Net Amount  \n",
      "count  55000.000000  \n",
      "mean    2875.949810  \n",
      "std     1726.127778  \n",
      "min     -351.119775  \n",
      "25%     1429.551863  \n",
      "50%     2814.910875  \n",
      "75%     4211.407838  \n",
      "max     8394.825600  \n",
      "\n",
      "Summary of categorical columns:\n",
      "        Gender Age Group        Purchase Date Product Category  \\\n",
      "count    55000     55000                55000            55000   \n",
      "unique       3         5                54988                9   \n",
      "top     Female     25-45  2021-04-02 15:58:13      Electronics   \n",
      "freq     18454     22010                    2            16574   \n",
      "\n",
      "       Discount Availed Discount Name Purchase Method Location  \n",
      "count             55000         55000           55000    55000  \n",
      "unique                2             5               8       14  \n",
      "top                  No      NEWYEARS     Credit Card   Mumbai  \n",
      "freq              27585         35720           22096    11197  \n"
     ]
    }
   ],
   "source": [
    "print(\"First few rows of the dataset:\")\n",
    "print(df.head())\n",
    "\n",
    "print(\"\\nSummary of numerical columns:\")\n",
    "print(df.describe())\n",
    "\n",
    "print(\"\\nSummary of categorical columns:\")\n",
    "print(df.describe(include=['object', 'category']))"
   ]
  },
  {
   "cell_type": "code",
   "execution_count": 11,
   "metadata": {},
   "outputs": [
    {
     "data": {
      "image/png": "[encoded data removed]",
      "text/plain": [
       "<Figure size 600x400 with 1 Axes>"
      ]
     },
     "metadata": {},
     "output_type": "display_data"
    }
   ],
   "source": [
    "#analysing the customer demographics on gender distribution\n",
    "plt.figure(figsize=(6, 4))\n",
    "sns.countplot(x='Gender', data=df)\n",
    "plt.title('Gender Distribution')\n",
    "plt.show()\n"
   ]
  },
  {
   "cell_type": "code",
   "execution_count": null,
   "metadata": {},
   "outputs": [],
   "source": []
  },
  {
   "cell_type": "code",
   "execution_count": null,
   "metadata": {},
   "outputs": [],
   "source": []
  }
 ],
 "metadata": {
  "kernelspec": {
   "display_name": "Python 3",
   "language": "python",
   "name": "python3"
  },
  "language_info": {
   "codemirror_mode": {
    "name": "ipython",
    "version": 3
   },
   "file_extension": ".py",
   "mimetype": "text/x-python",
   "name": "python",
   "nbconvert_exporter": "python",
   "pygments_lexer": "ipython3",
   "version": "3.12.2"
  }
 },
 "nbformat": 4,
 "nbformat_minor": 2
}
