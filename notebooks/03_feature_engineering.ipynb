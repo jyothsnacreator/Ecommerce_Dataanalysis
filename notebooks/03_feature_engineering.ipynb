{
 "cells": [
  {
   "cell_type": "code",
   "execution_count": 1,
   "metadata": {},
   "outputs": [
    {
     "name": "stdout",
     "output_type": "stream",
     "text": [
      "      CID         TID  Gender     Age Group        Purchase Date  \\\n",
      "0  943146  5876328741  Female         25-45  2023-08-30 20:27:08   \n",
      "1  180079  1018503182    Male         25-45  2024-02-23 09:33:46   \n",
      "2  337580  3814082218   Other  60 and above  2022-03-06 09:09:50   \n",
      "3  180333  1395204173   Other  60 and above  2020-11-04 04:41:57   \n",
      "4  447553  8009390577    Male         18-25  2022-05-31 17:00:32   \n",
      "\n",
      "   Product Category Discount Availed    Discount Name  Discount Amount (INR)  \\\n",
      "0       Electronics              Yes        FESTIVE50                  64.30   \n",
      "1       Electronics              Yes  SEASONALOFFER21                 175.19   \n",
      "2          Clothing              Yes  SEASONALOFFER21                 211.54   \n",
      "3  Sports & Fitness               No         NEWYEARS                   0.00   \n",
      "4  Sports & Fitness              Yes         WELCOME5                 439.92   \n",
      "\n",
      "   Gross Amount   Net Amount Purchase Method   Location  \n",
      "0    725.304000   661.004000     Credit Card  Ahmedabad  \n",
      "1   4638.991875  4463.801875     Credit Card  Bangalore  \n",
      "2   1986.372575  1774.832575     Credit Card      Delhi  \n",
      "3   5695.612650  5695.612650      Debit Card      Delhi  \n",
      "4   2292.651500  1852.731500     Credit Card      Delhi  \n"
     ]
    }
   ],
   "source": [
    "#Adding new features according to our requirement..\n",
    "import pandas as pd\n",
    "\n",
    "\n",
    "\n",
    "data_path = \"../data/cleaned_dataset.csv\"  \n",
    "df = pd.read_csv(data_path)\n",
    "\n",
    "\n",
    "print(df.head())\n"
   ]
  },
  {
   "cell_type": "code",
   "execution_count": 2,
   "metadata": {},
   "outputs": [
    {
     "name": "stdout",
     "output_type": "stream",
     "text": [
      "CLV feature added successfully!\n"
     ]
    }
   ],
   "source": [
    "# Adding a new feature: Customer Lifetime Value (CLV)\n",
    "if 'Net Amount' in df.columns:\n",
    "    df['Subscription Tenure'] = 12  # I am Assuming 12 months as default tenure\n",
    "    df['CLV'] = df['Net Amount'] * df['Subscription Tenure']\n",
    "    print(\"CLV feature added successfully!\")\n",
    "else:\n",
    "    print(\"Error: Column 'Net Amount' not found in the dataset.\")\n",
    "\n",
    "\n"
   ]
  },
  {
   "cell_type": "code",
   "execution_count": 3,
   "metadata": {},
   "outputs": [
    {
     "name": "stdout",
     "output_type": "stream",
     "text": [
      "Recency feature added successfully!\n"
     ]
    }
   ],
   "source": [
    " #Feature 2: Recency\n",
    "from datetime import datetime\n",
    "\n",
    "if 'Purchase Date' in df.columns:\n",
    "   \n",
    "    df['Purchase Date'] = pd.to_datetime(df['Purchase Date'])\n",
    "    \n",
    "    \n",
    "    today = datetime.now()\n",
    "    last_purchase = df.groupby('CID')['Purchase Date'].max()  \n",
    "    recency = (today - last_purchase).dt.days\n",
    "    recency = recency.reset_index()\n",
    "    recency.columns = ['CID', 'Recency']\n",
    "    \n",
    "    \n",
    "    df = df.merge(recency, on='CID', how='left')\n",
    "    print(\"Recency feature added successfully!\")\n",
    "else:\n",
    "    print(\"Error: Column 'Purchase Date' not found in the dataset.\")"
   ]
  },
  {
   "cell_type": "code",
   "execution_count": 4,
   "metadata": {},
   "outputs": [
    {
     "name": "stdout",
     "output_type": "stream",
     "text": [
      "Frequency feature added successfully!\n"
     ]
    }
   ],
   "source": [
    "if 'CID' in df.columns and 'TID' in df.columns:\n",
    "   \n",
    "    frequency = df.groupby('CID')['TID'].count().reset_index()\n",
    "    frequency.columns = ['CID', 'Frequency']\n",
    "    \n",
    "   \n",
    "    df = df.merge(frequency, on='CID', how='left')\n",
    "    print(\"Frequency feature added successfully!\")\n",
    "else:\n",
    "    print(\"Error: Columns 'CID' or 'TID' not found in the dataset.\")"
   ]
  },
  {
   "cell_type": "code",
   "execution_count": 5,
   "metadata": {},
   "outputs": [
    {
     "name": "stdout",
     "output_type": "stream",
     "text": [
      "Engagement Level feature added successfully!\n"
     ]
    }
   ],
   "source": [
    "if 'Net Amount' in df.columns:\n",
    "    \n",
    "    df['Engagement Level'] = pd.cut(\n",
    "        df['Net Amount'],\n",
    "        bins=[-1, 2000, 5000, float('inf')],\n",
    "        labels=['Low', 'Medium', 'High']\n",
    "    )\n",
    "    print(\"Engagement Level feature added successfully!\")\n",
    "else:\n",
    "    print(\"Error: Column 'Net Amount' not found in the dataset.\")"
   ]
  },
  {
   "cell_type": "code",
   "execution_count": 6,
   "metadata": {},
   "outputs": [
    {
     "name": "stdout",
     "output_type": "stream",
     "text": [
      "Feature engineered dataset saved to ../data/engineered_dataset.csv\n"
     ]
    }
   ],
   "source": [
    "output_path = \"../data/engineered_dataset.csv\"  \n",
    "df.to_csv(output_path, index=False)\n",
    "print(f\"Feature engineered dataset saved to {output_path}\")"
   ]
  }
 ],
 "metadata": {
  "kernelspec": {
   "display_name": "Python 3",
   "language": "python",
   "name": "python3"
  },
  "language_info": {
   "codemirror_mode": {
    "name": "ipython",
    "version": 3
   },
   "file_extension": ".py",
   "mimetype": "text/x-python",
   "name": "python",
   "nbconvert_exporter": "python",
   "pygments_lexer": "ipython3",
   "version": "3.12.2"
  }
 },
 "nbformat": 4,
 "nbformat_minor": 2
}
